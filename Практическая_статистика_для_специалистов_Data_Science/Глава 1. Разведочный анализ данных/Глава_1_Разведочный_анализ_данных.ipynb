{
  "nbformat": 4,
  "nbformat_minor": 0,
  "metadata": {
    "colab": {
      "name": "Глава 1. Разведочный анализ данных.ipynb",
      "provenance": [],
      "collapsed_sections": [],
      "authorship_tag": "ABX9TyPLEqMRCOBVWhPEikt87jFH",
      "include_colab_link": true
    },
    "kernelspec": {
      "name": "ir",
      "display_name": "R"
    },
    "language_info": {
      "name": "R"
    }
  },
  "cells": [
    {
      "cell_type": "markdown",
      "metadata": {
        "id": "view-in-github",
        "colab_type": "text"
      },
      "source": [
        "<a href=\"https://colab.research.google.com/github/BcVlad/books/blob/main/%D0%9F%D1%80%D0%B0%D0%BA%D1%82%D0%B8%D1%87%D0%B5%D1%81%D0%BA%D0%B0%D1%8F_%D1%81%D1%82%D0%B0%D1%82%D0%B8%D1%81%D1%82%D0%B8%D0%BA%D0%B0_%D0%B4%D0%BB%D1%8F_%D1%81%D0%BF%D0%B5%D1%86%D0%B8%D0%B0%D0%BB%D0%B8%D1%81%D1%82%D0%BE%D0%B2_Data_Science/%D0%93%D0%BB%D0%B0%D0%B2%D0%B0%201.%20%D0%A0%D0%B0%D0%B7%D0%B2%D0%B5%D0%B4%D0%BE%D1%87%D0%BD%D1%8B%D0%B9%20%D0%B0%D0%BD%D0%B0%D0%BB%D0%B8%D0%B7%20%D0%B4%D0%B0%D0%BD%D0%BD%D1%8B%D1%85/%D0%93%D0%BB%D0%B0%D0%B2%D0%B0_1_%D0%A0%D0%B0%D0%B7%D0%B2%D0%B5%D0%B4%D0%BE%D1%87%D0%BD%D1%8B%D0%B9_%D0%B0%D0%BD%D0%B0%D0%BB%D0%B8%D0%B7_%D0%B4%D0%B0%D0%BD%D0%BD%D1%8B%D1%85.ipynb\" target=\"_parent\"><img src=\"https://colab.research.google.com/assets/colab-badge.svg\" alt=\"Open In Colab\"/></a>"
      ]
    },
    {
      "cell_type": "markdown",
      "metadata": {
        "id": "fDwAP6qS7zuQ"
      },
      "source": [
        "# 1. Разведочный анализ данных"
      ]
    },
    {
      "cell_type": "markdown",
      "metadata": {
        "id": "vgALFepP7_Eo"
      },
      "source": [
        "## Оценки вариабельности"
      ]
    },
    {
      "cell_type": "code",
      "metadata": {
        "colab": {
          "base_uri": "https://localhost:8080/"
        },
        "id": "l4KP2fCtY4TW",
        "outputId": "20b4e8d9-103a-4b34-b52a-63631f0ffe3a"
      },
      "source": [
        "install.packages('dplyr')\n",
        "install.packages('tidyr')\n",
        "install.packages('ggplot2')\n",
        "install.packages('vioplot')\n",
        "install.packages('corrplot')\n",
        "install.packages('descr')"
      ],
      "execution_count": 10,
      "outputs": [
        {
          "output_type": "stream",
          "text": [
            "Installing package into ‘/usr/local/lib/R/site-library’\n",
            "(as ‘lib’ is unspecified)\n",
            "\n",
            "Installing package into ‘/usr/local/lib/R/site-library’\n",
            "(as ‘lib’ is unspecified)\n",
            "\n",
            "Installing package into ‘/usr/local/lib/R/site-library’\n",
            "(as ‘lib’ is unspecified)\n",
            "\n",
            "Installing package into ‘/usr/local/lib/R/site-library’\n",
            "(as ‘lib’ is unspecified)\n",
            "\n",
            "Installing package into ‘/usr/local/lib/R/site-library’\n",
            "(as ‘lib’ is unspecified)\n",
            "\n",
            "Installing package into ‘/usr/local/lib/R/site-library’\n",
            "(as ‘lib’ is unspecified)\n",
            "\n"
          ],
          "name": "stderr"
        }
      ]
    },
    {
      "cell_type": "code",
      "metadata": {
        "id": "UDy5OamzaIdL"
      },
      "source": [
        "library('tidyr')\n",
        "library('ggplot2')\n",
        "library('vioplot')\n",
        "library('corrplot')\n",
        "library('descr')"
      ],
      "execution_count": 11,
      "outputs": []
    },
    {
      "cell_type": "code",
      "metadata": {
        "id": "SRMRYTbWaIfQ"
      },
      "source": [
        "state <- read.csv(\"https://raw.githubusercontent.com/BcVlad/books/main/%D0%9F%D1%80%D0%B0%D0%BA%D1%82%D0%B8%D1%87%D0%B5%D1%81%D0%BA%D0%B0%D1%8F_%D1%81%D1%82%D0%B0%D1%82%D0%B8%D1%81%D1%82%D0%B8%D0%BA%D0%B0_%D0%B4%D0%BB%D1%8F_%D1%81%D0%BF%D0%B5%D1%86%D0%B8%D0%B0%D0%BB%D0%B8%D1%81%D1%82%D0%BE%D0%B2_Data_Science/statistics-for-data-scientists-master-ru/data/state.csv\")"
      ],
      "execution_count": 12,
      "outputs": []
    },
    {
      "cell_type": "code",
      "metadata": {
        "id": "I5STqYiKj493",
        "colab": {
          "base_uri": "https://localhost:8080/",
          "height": 283
        },
        "outputId": "082eeed6-62ac-4838-f373-f2b6745a5136"
      },
      "source": [
        "head(state)"
      ],
      "execution_count": 13,
      "outputs": [
        {
          "output_type": "display_data",
          "data": {
            "text/plain": [
              "  State      Population Murder.Rate NA. NA.1                NA.2 Abbreviation\n",
              "1 Alabama     4779736   5.7         AL  (4.23e+06,7.9e+06]  AL   AL          \n",
              "2 Alaska       710231   5.6         AK  [5.64e+05,4.23e+06] AK   AK          \n",
              "3 Arizona     6392017   4.7         AZ  (4.23e+06,7.9e+06]  AZ   AZ          \n",
              "4 Arkansas    2915918   5.6         AR  [5.64e+05,4.23e+06] AR   AR          \n",
              "5 California 37253956   4.4         CA  (3.36e+07,3.73e+07] CA   CA          \n",
              "6 Colorado    5029196   2.8         CO  (4.23e+06,7.9e+06]  CO   CO          "
            ],
            "text/latex": "A data.frame: 6 × 7\n\\begin{tabular}{r|lllllll}\n  & State & Population & Murder.Rate & NA. & NA.1 & NA.2 & Abbreviation\\\\\n  & <chr> & <int> & <dbl> & <chr> & <chr> & <chr> & <chr>\\\\\n\\hline\n\t1 & Alabama    &  4779736 & 5.7 & AL & (4.23e+06,7.9e+06{]}  & AL & AL\\\\\n\t2 & Alaska     &   710231 & 5.6 & AK & {[}5.64e+05,4.23e+06{]} & AK & AK\\\\\n\t3 & Arizona    &  6392017 & 4.7 & AZ & (4.23e+06,7.9e+06{]}  & AZ & AZ\\\\\n\t4 & Arkansas   &  2915918 & 5.6 & AR & {[}5.64e+05,4.23e+06{]} & AR & AR\\\\\n\t5 & California & 37253956 & 4.4 & CA & (3.36e+07,3.73e+07{]} & CA & CA\\\\\n\t6 & Colorado   &  5029196 & 2.8 & CO & (4.23e+06,7.9e+06{]}  & CO & CO\\\\\n\\end{tabular}\n",
            "text/markdown": "\nA data.frame: 6 × 7\n\n| <!--/--> | State &lt;chr&gt; | Population &lt;int&gt; | Murder.Rate &lt;dbl&gt; | NA. &lt;chr&gt; | NA.1 &lt;chr&gt; | NA.2 &lt;chr&gt; | Abbreviation &lt;chr&gt; |\n|---|---|---|---|---|---|---|---|\n| 1 | Alabama    |  4779736 | 5.7 | AL | (4.23e+06,7.9e+06]  | AL | AL |\n| 2 | Alaska     |   710231 | 5.6 | AK | [5.64e+05,4.23e+06] | AK | AK |\n| 3 | Arizona    |  6392017 | 4.7 | AZ | (4.23e+06,7.9e+06]  | AZ | AZ |\n| 4 | Arkansas   |  2915918 | 5.6 | AR | [5.64e+05,4.23e+06] | AR | AR |\n| 5 | California | 37253956 | 4.4 | CA | (3.36e+07,3.73e+07] | CA | CA |\n| 6 | Colorado   |  5029196 | 2.8 | CO | (4.23e+06,7.9e+06]  | CO | CO |\n\n",
            "text/html": [
              "<table class=\"dataframe\">\n",
              "<caption>A data.frame: 6 × 7</caption>\n",
              "<thead>\n",
              "\t<tr><th></th><th scope=col>State</th><th scope=col>Population</th><th scope=col>Murder.Rate</th><th scope=col>NA.</th><th scope=col>NA.1</th><th scope=col>NA.2</th><th scope=col>Abbreviation</th></tr>\n",
              "\t<tr><th></th><th scope=col>&lt;chr&gt;</th><th scope=col>&lt;int&gt;</th><th scope=col>&lt;dbl&gt;</th><th scope=col>&lt;chr&gt;</th><th scope=col>&lt;chr&gt;</th><th scope=col>&lt;chr&gt;</th><th scope=col>&lt;chr&gt;</th></tr>\n",
              "</thead>\n",
              "<tbody>\n",
              "\t<tr><th scope=row>1</th><td>Alabama   </td><td> 4779736</td><td>5.7</td><td>AL</td><td>(4.23e+06,7.9e+06] </td><td>AL</td><td>AL</td></tr>\n",
              "\t<tr><th scope=row>2</th><td>Alaska    </td><td>  710231</td><td>5.6</td><td>AK</td><td>[5.64e+05,4.23e+06]</td><td>AK</td><td>AK</td></tr>\n",
              "\t<tr><th scope=row>3</th><td>Arizona   </td><td> 6392017</td><td>4.7</td><td>AZ</td><td>(4.23e+06,7.9e+06] </td><td>AZ</td><td>AZ</td></tr>\n",
              "\t<tr><th scope=row>4</th><td>Arkansas  </td><td> 2915918</td><td>5.6</td><td>AR</td><td>[5.64e+05,4.23e+06]</td><td>AR</td><td>AR</td></tr>\n",
              "\t<tr><th scope=row>5</th><td>California</td><td>37253956</td><td>4.4</td><td>CA</td><td>(3.36e+07,3.73e+07]</td><td>CA</td><td>CA</td></tr>\n",
              "\t<tr><th scope=row>6</th><td>Colorado  </td><td> 5029196</td><td>2.8</td><td>CO</td><td>(4.23e+06,7.9e+06] </td><td>CO</td><td>CO</td></tr>\n",
              "</tbody>\n",
              "</table>\n"
            ]
          },
          "metadata": {
            "tags": []
          }
        }
      ]
    },
    {
      "cell_type": "markdown",
      "metadata": {
        "id": "xQXESYh76WK0"
      },
      "source": [
        "Используя встроенные функции R можно вычислить оценки вариабелбности о населении штатов (sd - стандартное отклонение, IQR - межквартильный размах, mad - медианное абсолютное отклонение)"
      ]
    },
    {
      "cell_type": "code",
      "metadata": {
        "id": "DOrnGJNoj5AZ",
        "colab": {
          "base_uri": "https://localhost:8080/",
          "height": 34
        },
        "outputId": "e1e127b6-a4c2-478a-f216-5d435d4938f2"
      },
      "source": [
        "round(sd(state[[\"Population\"]]))"
      ],
      "execution_count": 17,
      "outputs": [
        {
          "output_type": "display_data",
          "data": {
            "text/plain": [
              "[1] 6848235"
            ],
            "text/latex": "6848235",
            "text/markdown": "6848235",
            "text/html": [
              "6848235"
            ]
          },
          "metadata": {
            "tags": []
          }
        }
      ]
    },
    {
      "cell_type": "code",
      "metadata": {
        "id": "PDSsdLiKj5Cx",
        "colab": {
          "base_uri": "https://localhost:8080/",
          "height": 34
        },
        "outputId": "198040f9-adec-4415-9e21-1fef221736a4"
      },
      "source": [
        "round(IQR(state[[\"Population\"]]))"
      ],
      "execution_count": 18,
      "outputs": [
        {
          "output_type": "display_data",
          "data": {
            "text/plain": [
              "[1] 4847308"
            ],
            "text/latex": "4847308",
            "text/markdown": "4847308",
            "text/html": [
              "4847308"
            ]
          },
          "metadata": {
            "tags": []
          }
        }
      ]
    },
    {
      "cell_type": "markdown",
      "metadata": {
        "id": "bpbFdcOV7yTx"
      },
      "source": [
        ""
      ]
    },
    {
      "cell_type": "code",
      "metadata": {
        "id": "T5f0ulsFj5FG",
        "colab": {
          "base_uri": "https://localhost:8080/",
          "height": 34
        },
        "outputId": "5745ca5e-abc4-4279-a0e1-e927c12e0260"
      },
      "source": [
        "round(mad(state[[\"Population\"]]))"
      ],
      "execution_count": 19,
      "outputs": [
        {
          "output_type": "display_data",
          "data": {
            "text/plain": [
              "[1] 3849870"
            ],
            "text/latex": "3849870",
            "text/markdown": "3849870",
            "text/html": [
              "3849870"
            ]
          },
          "metadata": {
            "tags": []
          }
        }
      ]
    },
    {
      "cell_type": "markdown",
      "metadata": {
        "id": "vKqKWRbc9U8z"
      },
      "source": [
        "Стандартное отклонение почти вдвое больше МАО, и это не удивительно, ведь стандартное отклонение чувствительно к выбросам."
      ]
    },
    {
      "cell_type": "markdown",
      "metadata": {
        "id": "KIGBuaxE9iOT"
      },
      "source": [
        "## Обследование распределения данных"
      ]
    },
    {
      "cell_type": "markdown",
      "metadata": {
        "id": "JKxnmiia-4-_"
      },
      "source": [
        "### Процентили и коробчатые диаграммы"
      ]
    },
    {
      "cell_type": "markdown",
      "metadata": {
        "id": "sbnJf90y-dCN"
      },
      "source": [
        "Все рассмотренные нами оценки обобщают данные в одном числе с целью описания центрального положения либо вариабельности данных. Помимо этого, также\n",
        "полезно обследовать характер распределенных данных в целом."
      ]
    },
    {
      "cell_type": "markdown",
      "metadata": {
        "id": "D36h5iB3_QIB"
      },
      "source": [
        "В разд. \"Оценки на основе процентилей\" ранее в этой главе мы рассмотрели, каким\n",
        "образом процентили могут использоваться для измерения разброса данных. Процентили также важны для обобщения всего распределения в целом. Общепринято\n",
        "сообщать о квартилях (25-й, 50-й и 75-й перцентили) и децилях (10-й, 20-й, ...,\n",
        "90-й процентили). Процентили особенно важны для обобщения хвостов (внешнего\n",
        "размаха) распределения. Массовая культура ввела в обиход термин \"однопроцентовики\", который относится к людям в верхнем 99-м процентиле богатства."
      ]
    },
    {
      "cell_type": "code",
      "metadata": {
        "id": "fPccIbQzj5Hl",
        "colab": {
          "base_uri": "https://localhost:8080/",
          "height": 34
        },
        "outputId": "68562f89-0ebf-4f8b-9261-2184a8839ded"
      },
      "source": [
        "quantile(state[[\"Murder.Rate\"]], p=c(.05, .25, .5, .75, .95))"
      ],
      "execution_count": 21,
      "outputs": [
        {
          "output_type": "display_data",
          "data": {
            "text/plain": [
              "   5%   25%   50%   75%   95% \n",
              "1.600 2.425 4.000 5.550 6.510 "
            ],
            "text/latex": "\\begin{description*}\n\\item[5\\textbackslash{}\\%] 1.6\n\\item[25\\textbackslash{}\\%] 2.425\n\\item[50\\textbackslash{}\\%] 4\n\\item[75\\textbackslash{}\\%] 5.55\n\\item[95\\textbackslash{}\\%] 6.51\n\\end{description*}\n",
            "text/markdown": "5%\n:   1.625%\n:   2.42550%\n:   475%\n:   5.5595%\n:   6.51\n\n",
            "text/html": [
              "<style>\n",
              ".dl-inline {width: auto; margin:0; padding: 0}\n",
              ".dl-inline>dt, .dl-inline>dd {float: none; width: auto; display: inline-block}\n",
              ".dl-inline>dt::after {content: \":\\0020\"; padding-right: .5ex}\n",
              ".dl-inline>dt:not(:first-of-type) {padding-left: .5ex}\n",
              "</style><dl class=dl-inline><dt>5%</dt><dd>1.6</dd><dt>25%</dt><dd>2.425</dd><dt>50%</dt><dd>4</dd><dt>75%</dt><dd>5.55</dd><dt>95%</dt><dd>6.51</dd></dl>\n"
            ]
          },
          "metadata": {
            "tags": []
          }
        }
      ]
    },
    {
      "cell_type": "markdown",
      "metadata": {
        "id": "PTxqeBcU_a4B"
      },
      "source": [
        "Медиана равна 4 убийствам на 100 тыс. человек, несмотря на то, что присутствует\n",
        "довольно большая вариабельность: 5-й процентиль составляет всего 1,6, тогда как\n",
        "95-й процентиль — 6,51."
      ]
    },
    {
      "cell_type": "markdown",
      "metadata": {
        "id": "yP5-0vmG_f7z"
      },
      "source": [
        "Коробчатые диаграммы, введенные в употребление Тьюки [Tukey-1977], основаны\n",
        "на процентилях и обеспечивают быстрый способ визуализации распределения данных. На рис. 1.2 представлена коробчатая диаграмма населения по штатам, полученная в R:"
      ]
    },
    {
      "cell_type": "code",
      "metadata": {
        "id": "Nk0FNrw-j5J9",
        "colab": {
          "base_uri": "https://localhost:8080/",
          "height": 437
        },
        "outputId": "fb3f82ea-ea84-4377-dd04-523968c68722"
      },
      "source": [
        "boxplot(state[[\"Population\"]]/1000000, ylab=\"Население, млн человек\")"
      ],
      "execution_count": 22,
      "outputs": [
        {
          "output_type": "display_data",
          "data": {
            "image/png": "[encoded data removed]",
            "text/plain": [
              "plot without title"
            ]
          },
          "metadata": {
            "tags": [],
            "image/png": {
              "width": 420,
              "height": 420
            }
          }
        }
      ]
    },
    {
      "cell_type": "markdown",
      "metadata": {
        "id": "q3nIk2WT_tXZ"
      },
      "source": [
        "Верх и низ коробки представляют собой соответственно 75-й и 25-й процентили.\n",
        "Медиана показана в коробке горизонтальной линией. Пунктирные линии, называемые усами, выходят из верха и низа и говорят о размахе основной части данных. По умолчанию данная функция R\n",
        "простирает усы к самой далекой точке вне коробки, за исключением того, что она\n",
        "не выходит за пределы межквартильного размаха (МКР или IQR), умноженного\n",
        "на 1,5 (в других программных системах могут использоваться иные правила). Все\n",
        "данные за пределами усов отображаются как одиночные точки."
      ]
    },
    {
      "cell_type": "markdown",
      "metadata": {
        "id": "HXss8bkrALIU"
      },
      "source": [
        "### Частотная таблица и гистограммы"
      ]
    },
    {
      "cell_type": "markdown",
      "metadata": {
        "id": "3QMA3fRuATvu"
      },
      "source": [
        "Частотная таблица переменной делит диапазон переменной на равноотстоящие\n",
        "сегменты и сообщает о том, сколько значений попадает в каждый сегмент."
      ]
    },
    {
      "cell_type": "code",
      "metadata": {
        "id": "F4c4bdmPj5MT",
        "colab": {
          "base_uri": "https://localhost:8080/",
          "height": 136
        },
        "outputId": "5bb7a145-18b9-420d-a82f-7cfd36a2f049"
      },
      "source": [
        "breaks <- seq(from=min(state[[\"Population\"]]),to=max(state[[\"Population\"]]), length=11)\n",
        "pop_freq <- cut(state[[\"Population\"]], breaks=breaks, right=TRUE, include.lowest = TRUE)\n",
        "table(pop_freq)"
      ],
      "execution_count": 23,
      "outputs": [
        {
          "output_type": "display_data",
          "data": {
            "text/plain": [
              "pop_freq\n",
              "[5.64e+05,4.23e+06]  (4.23e+06,7.9e+06]  (7.9e+06,1.16e+07] (1.16e+07,1.52e+07] \n",
              "                 24                  14                   6                   2 \n",
              "(1.52e+07,1.89e+07] (1.89e+07,2.26e+07] (2.26e+07,2.62e+07] (2.62e+07,2.99e+07] \n",
              "                  1                   1                   1                   0 \n",
              "(2.99e+07,3.36e+07] (3.36e+07,3.73e+07] \n",
              "                  0                   1 "
            ]
          },
          "metadata": {
            "tags": []
          }
        }
      ]
    },
    {
      "cell_type": "code",
      "metadata": {
        "colab": {
          "base_uri": "https://localhost:8080/",
          "height": 437
        },
        "id": "7mmCGWxY_lnZ",
        "outputId": "3693674f-2c7d-49a2-f043-ec10a467b6eb"
      },
      "source": [
        "hist(state[[\"Population\"]], breaks=breaks)"
      ],
      "execution_count": 24,
      "outputs": [
        {
          "output_type": "display_data",
          "data": {
            "image/png": "[encoded data removed]",
            "text/plain": [
              "Plot with title “Histogram of state[[\"Population\"]]”"
            ]
          },
          "metadata": {
            "tags": [],
            "image/png": {
              "width": 420,
              "height": 420
            }
          }
        }
      ]
    },
    {
      "cell_type": "code",
      "metadata": {
        "id": "hqpfNBrC_lsw"
      },
      "source": [
        ""
      ],
      "execution_count": null,
      "outputs": []
    },
    {
      "cell_type": "code",
      "metadata": {
        "id": "SxY046Sg_lvY"
      },
      "source": [
        ""
      ],
      "execution_count": null,
      "outputs": []
    },
    {
      "cell_type": "code",
      "metadata": {
        "id": "DKu6t4vg_lxx"
      },
      "source": [
        ""
      ],
      "execution_count": null,
      "outputs": []
    },
    {
      "cell_type": "code",
      "metadata": {
        "id": "2dDz8ogx_l01"
      },
      "source": [
        ""
      ],
      "execution_count": null,
      "outputs": []
    },
    {
      "cell_type": "code",
      "metadata": {
        "id": "JGRKoO4Cj5Ob"
      },
      "source": [
        ""
      ],
      "execution_count": null,
      "outputs": []
    }
  ]
}