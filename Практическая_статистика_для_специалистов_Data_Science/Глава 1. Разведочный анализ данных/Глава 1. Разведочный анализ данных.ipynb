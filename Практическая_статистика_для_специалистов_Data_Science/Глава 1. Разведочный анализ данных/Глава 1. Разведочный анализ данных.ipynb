{
  "nbformat": 4,
  "nbformat_minor": 0,
  "metadata": {
    "colab": {
      "name": "Копия R kernel.ipynb",
      "provenance": [],
      "collapsed_sections": []
    },
    "kernelspec": {
      "name": "ir",
      "display_name": "R"
    },
    "language_info": {
      "name": "R"
    }
  },
  "cells": [
    {
      "cell_type": "code",
      "metadata": {
        "colab": {
          "base_uri": "https://localhost:8080/",
          "height": 34
        },
        "id": "l4KP2fCtY4TW",
        "outputId": "c5fddd87-aa64-4000-b4c0-9912894ecfa9"
      },
      "source": [
        "R.version.string"
      ],
      "execution_count": null,
      "outputs": [
        {
          "output_type": "display_data",
          "data": {
            "text/plain": [
              "[1] \"R version 4.0.4 (2021-02-15)\""
            ],
            "text/latex": "'R version 4.0.4 (2021-02-15)'",
            "text/markdown": "'R version 4.0.4 (2021-02-15)'",
            "text/html": [
              "'R version 4.0.4 (2021-02-15)'"
            ]
          },
          "metadata": {
            "tags": []
          }
        }
      ]
    },
    {
      "cell_type": "code",
      "metadata": {
        "colab": {
          "base_uri": "https://localhost:8080/",
          "height": 34
        },
        "id": "Zc5MozIVZiKm",
        "outputId": "57ece597-c09f-4341-d0e3-b394748d8895"
      },
      "source": [
        "R.version.string"
      ],
      "execution_count": null,
      "outputs": [
        {
          "output_type": "display_data",
          "data": {
            "text/plain": [
              "[1] \"R version 4.0.4 (2021-02-15)\""
            ],
            "text/latex": "'R version 4.0.4 (2021-02-15)'",
            "text/markdown": "'R version 4.0.4 (2021-02-15)'",
            "text/html": [
              "'R version 4.0.4 (2021-02-15)'"
            ]
          },
          "metadata": {
            "tags": []
          }
        }
      ]
    },
    {
      "cell_type": "code",
      "metadata": {
        "colab": {
          "base_uri": "https://localhost:8080/",
          "height": 34
        },
        "id": "bKaLMYKZZlhs",
        "outputId": "5d030423-f62c-49ab-e302-90afc344bcd6"
      },
      "source": [
        "2+2"
      ],
      "execution_count": null,
      "outputs": [
        {
          "output_type": "display_data",
          "data": {
            "text/plain": [
              "[1] 4"
            ],
            "text/latex": "4",
            "text/markdown": "4",
            "text/html": [
              "4"
            ]
          },
          "metadata": {
            "tags": []
          }
        }
      ]
    },
    {
      "cell_type": "code",
      "metadata": {
        "id": "oOEYX9qvZmaO"
      },
      "source": [
        "a = 5"
      ],
      "execution_count": null,
      "outputs": []
    },
    {
      "cell_type": "code",
      "metadata": {
        "colab": {
          "base_uri": "https://localhost:8080/"
        },
        "id": "n7121pRtZu-z",
        "outputId": "15ce5484-35d6-4565-9adb-a39e20b824b1"
      },
      "source": [
        "install.packages('dplyr')\n",
        "# install.packages('tidyr')\n",
        "# install.packages('ggplot2')\n",
        "# install.packages('vioplot')\n",
        "# install.packages('corrplot')\n",
        "# install.packages('descr')"
      ],
      "execution_count": null,
      "outputs": [
        {
          "output_type": "stream",
          "text": [
            "Installing package into ‘/usr/local/lib/R/site-library’\n",
            "(as ‘lib’ is unspecified)\n",
            "\n"
          ],
          "name": "stderr"
        }
      ]
    },
    {
      "cell_type": "code",
      "metadata": {
        "colab": {
          "base_uri": "https://localhost:8080/"
        },
        "id": "dBCrveoGZ2RG",
        "outputId": "8fba6279-564e-41a9-f02a-f5ac4069f7d1"
      },
      "source": [
        "install.packages('tidyr')\n",
        "install.packages('ggplot2')\n",
        "install.packages('vioplot')\n",
        "install.packages('corrplot')\n",
        "install.packages('descr')"
      ],
      "execution_count": null,
      "outputs": [
        {
          "output_type": "stream",
          "text": [
            "Installing package into ‘/usr/local/lib/R/site-library’\n",
            "(as ‘lib’ is unspecified)\n",
            "\n",
            "Installing package into ‘/usr/local/lib/R/site-library’\n",
            "(as ‘lib’ is unspecified)\n",
            "\n",
            "Installing package into ‘/usr/local/lib/R/site-library’\n",
            "(as ‘lib’ is unspecified)\n",
            "\n",
            "also installing the dependencies ‘sm’, ‘zoo’\n",
            "\n",
            "\n",
            "Installing package into ‘/usr/local/lib/R/site-library’\n",
            "(as ‘lib’ is unspecified)\n",
            "\n",
            "Installing package into ‘/usr/local/lib/R/site-library’\n",
            "(as ‘lib’ is unspecified)\n",
            "\n",
            "also installing the dependency ‘xtable’\n",
            "\n",
            "\n"
          ],
          "name": "stderr"
        }
      ]
    },
    {
      "cell_type": "code",
      "metadata": {
        "colab": {
          "base_uri": "https://localhost:8080/",
          "height": 214
        },
        "id": "on9Ib0SvaHaJ",
        "outputId": "84351813-800f-4200-c095-66f6a4aa5482"
      },
      "source": [
        "state <- read.csv(file=\"state.csv\")"
      ],
      "execution_count": null,
      "outputs": [
        {
          "output_type": "stream",
          "text": [
            "Warning message in file(file, \"rt\"):\n",
            "“cannot open file 'state.csv': No such file or directory”\n"
          ],
          "name": "stderr"
        },
        {
          "output_type": "error",
          "ename": "ERROR",
          "evalue": "ignored",
          "traceback": [
            "Error in file(file, \"rt\"): cannot open the connection\nTraceback:\n",
            "1. read.csv(file = \"state.csv\")",
            "2. read.table(file = file, header = header, sep = sep, quote = quote, \n .     dec = dec, fill = fill, comment.char = comment.char, ...)",
            "3. file(file, \"rt\")"
          ]
        }
      ]
    },
    {
      "cell_type": "code",
      "metadata": {
        "id": "7FyGw17OaIVO"
      },
      "source": [
        ""
      ],
      "execution_count": null,
      "outputs": []
    },
    {
      "cell_type": "code",
      "metadata": {
        "id": "XZABa6uYaIX4"
      },
      "source": [
        ""
      ],
      "execution_count": null,
      "outputs": []
    },
    {
      "cell_type": "code",
      "metadata": {
        "id": "hXjJkbd-aIao"
      },
      "source": [
        ""
      ],
      "execution_count": null,
      "outputs": []
    },
    {
      "cell_type": "code",
      "metadata": {
        "id": "UDy5OamzaIdL"
      },
      "source": [
        ""
      ],
      "execution_count": null,
      "outputs": []
    },
    {
      "cell_type": "code",
      "metadata": {
        "id": "SRMRYTbWaIfQ"
      },
      "source": [
        ""
      ],
      "execution_count": null,
      "outputs": []
    }
  ]
}