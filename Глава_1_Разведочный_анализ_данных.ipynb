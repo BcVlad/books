{
  "nbformat": 4,
  "nbformat_minor": 0,
  "metadata": {
    "colab": {
      "name": "Глава 1. Разведочный анализ данных.ipynb",
      "provenance": [],
      "collapsed_sections": [],
      "authorship_tag": "ABX9TyPLoJRuxxdLnkPD3LZr1l8T",
      "include_colab_link": true
    },
    "kernelspec": {
      "name": "ir",
      "display_name": "R"
    },
    "language_info": {
      "name": "R"
    }
  },
  "cells": [
    {
      "cell_type": "markdown",
      "metadata": {
        "id": "view-in-github",
        "colab_type": "text"
      },
      "source": [
        "<a href=\"https://colab.research.google.com/github/BcVlad/books/blob/main/%D0%93%D0%BB%D0%B0%D0%B2%D0%B0_1_%D0%A0%D0%B0%D0%B7%D0%B2%D0%B5%D0%B4%D0%BE%D1%87%D0%BD%D1%8B%D0%B9_%D0%B0%D0%BD%D0%B0%D0%BB%D0%B8%D0%B7_%D0%B4%D0%B0%D0%BD%D0%BD%D1%8B%D1%85.ipynb\" target=\"_parent\"><img src=\"https://colab.research.google.com/assets/colab-badge.svg\" alt=\"Open In Colab\"/></a>"
      ]
    },
    {
      "cell_type": "code",
      "metadata": {
        "colab": {
          "base_uri": "https://localhost:8080/",
          "height": 34
        },
        "id": "l4KP2fCtY4TW",
        "outputId": "c1ce5e36-3dfd-41e4-ee42-2bd2367c990c"
      },
      "source": [
        "R.version.string"
      ],
      "execution_count": null,
      "outputs": [
        {
          "output_type": "display_data",
          "data": {
            "text/plain": [
              "[1] \"R version 4.0.4 (2021-02-15)\""
            ],
            "text/latex": "'R version 4.0.4 (2021-02-15)'",
            "text/markdown": "'R version 4.0.4 (2021-02-15)'",
            "text/html": [
              "'R version 4.0.4 (2021-02-15)'"
            ]
          },
          "metadata": {
            "tags": []
          }
        }
      ]
    },
    {
      "cell_type": "code",
      "metadata": {
        "colab": {
          "base_uri": "https://localhost:8080/",
          "height": 34
        },
        "id": "Zc5MozIVZiKm",
        "outputId": "78a10d68-9478-4d93-ba3f-12a0b07db1f0"
      },
      "source": [
        "R.version.string"
      ],
      "execution_count": null,
      "outputs": [
        {
          "output_type": "display_data",
          "data": {
            "text/plain": [
              "[1] \"R version 4.0.4 (2021-02-15)\""
            ],
            "text/latex": "'R version 4.0.4 (2021-02-15)'",
            "text/markdown": "'R version 4.0.4 (2021-02-15)'",
            "text/html": [
              "'R version 4.0.4 (2021-02-15)'"
            ]
          },
          "metadata": {
            "tags": []
          }
        }
      ]
    },
    {
      "cell_type": "code",
      "metadata": {
        "colab": {
          "base_uri": "https://localhost:8080/",
          "height": 34
        },
        "id": "bKaLMYKZZlhs",
        "outputId": "5d030423-f62c-49ab-e302-90afc344bcd6"
      },
      "source": [
        "2+2"
      ],
      "execution_count": null,
      "outputs": [
        {
          "output_type": "display_data",
          "data": {
            "text/plain": [
              "[1] 4"
            ],
            "text/latex": "4",
            "text/markdown": "4",
            "text/html": [
              "4"
            ]
          },
          "metadata": {
            "tags": []
          }
        }
      ]
    },
    {
      "cell_type": "code",
      "metadata": {
        "id": "oOEYX9qvZmaO"
      },
      "source": [
        "a = 5"
      ],
      "execution_count": null,
      "outputs": []
    },
    {
      "cell_type": "code",
      "metadata": {
        "colab": {
          "base_uri": "https://localhost:8080/"
        },
        "id": "n7121pRtZu-z",
        "outputId": "70770095-1f04-4c50-efa4-5fed3f23df52"
      },
      "source": [
        "install.packages('dplyr')\n",
        "install.packages('tidyr')\n",
        "install.packages('ggplot2')\n",
        "install.packages('vioplot')\n",
        "install.packages('corrplot')\n",
        "install.packages('descr')"
      ],
      "execution_count": null,
      "outputs": [
        {
          "output_type": "stream",
          "text": [
            "Installing package into ‘/usr/local/lib/R/site-library’\n",
            "(as ‘lib’ is unspecified)\n",
            "\n",
            "Installing package into ‘/usr/local/lib/R/site-library’\n",
            "(as ‘lib’ is unspecified)\n",
            "\n",
            "Installing package into ‘/usr/local/lib/R/site-library’\n",
            "(as ‘lib’ is unspecified)\n",
            "\n",
            "Installing package into ‘/usr/local/lib/R/site-library’\n",
            "(as ‘lib’ is unspecified)\n",
            "\n",
            "also installing the dependencies ‘sm’, ‘zoo’\n",
            "\n",
            "\n",
            "Installing package into ‘/usr/local/lib/R/site-library’\n",
            "(as ‘lib’ is unspecified)\n",
            "\n",
            "Installing package into ‘/usr/local/lib/R/site-library’\n",
            "(as ‘lib’ is unspecified)\n",
            "\n",
            "also installing the dependency ‘xtable’\n",
            "\n",
            "\n"
          ],
          "name": "stderr"
        }
      ]
    },
    {
      "cell_type": "code",
      "metadata": {
        "id": "UDy5OamzaIdL"
      },
      "source": [
        "library('tidyr')\n",
        "library('ggplot2')\n",
        "library('vioplot')\n",
        "library('corrplot')\n",
        "library('descr')"
      ],
      "execution_count": 6,
      "outputs": []
    },
    {
      "cell_type": "code",
      "metadata": {
        "id": "SRMRYTbWaIfQ"
      },
      "source": [
        "state <- read.csv(\"https://raw.githubusercontent.com/BcVlad/books/main/%D0%9F%D1%80%D0%B0%D0%BA%D1%82%D0%B8%D1%87%D0%B5%D1%81%D0%BA%D0%B0%D1%8F_%D1%81%D1%82%D0%B0%D1%82%D0%B8%D1%81%D1%82%D0%B8%D0%BA%D0%B0_%D0%B4%D0%BB%D1%8F_%D1%81%D0%BF%D0%B5%D1%86%D0%B8%D0%B0%D0%BB%D0%B8%D1%81%D1%82%D0%BE%D0%B2_Data_Science/statistics-for-data-scientists-master-ru/data/state.csv\")"
      ],
      "execution_count": 7,
      "outputs": []
    },
    {
      "cell_type": "code",
      "metadata": {
        "id": "I5STqYiKj493",
        "colab": {
          "base_uri": "https://localhost:8080/",
          "height": 283
        },
        "outputId": "0e51bda1-d3c1-470a-96e0-74484efab3af"
      },
      "source": [
        "head(state)"
      ],
      "execution_count": 9,
      "outputs": [
        {
          "output_type": "display_data",
          "data": {
            "text/plain": [
              "  State      Population Murder.Rate NA. NA.1                NA.2 Abbreviation\n",
              "1 Alabama     4779736   5.7         AL  (4.23e+06,7.9e+06]  AL   AL          \n",
              "2 Alaska       710231   5.6         AK  [5.64e+05,4.23e+06] AK   AK          \n",
              "3 Arizona     6392017   4.7         AZ  (4.23e+06,7.9e+06]  AZ   AZ          \n",
              "4 Arkansas    2915918   5.6         AR  [5.64e+05,4.23e+06] AR   AR          \n",
              "5 California 37253956   4.4         CA  (3.36e+07,3.73e+07] CA   CA          \n",
              "6 Colorado    5029196   2.8         CO  (4.23e+06,7.9e+06]  CO   CO          "
            ],
            "text/latex": "A data.frame: 6 × 7\n\\begin{tabular}{r|lllllll}\n  & State & Population & Murder.Rate & NA. & NA.1 & NA.2 & Abbreviation\\\\\n  & <chr> & <int> & <dbl> & <chr> & <chr> & <chr> & <chr>\\\\\n\\hline\n\t1 & Alabama    &  4779736 & 5.7 & AL & (4.23e+06,7.9e+06{]}  & AL & AL\\\\\n\t2 & Alaska     &   710231 & 5.6 & AK & {[}5.64e+05,4.23e+06{]} & AK & AK\\\\\n\t3 & Arizona    &  6392017 & 4.7 & AZ & (4.23e+06,7.9e+06{]}  & AZ & AZ\\\\\n\t4 & Arkansas   &  2915918 & 5.6 & AR & {[}5.64e+05,4.23e+06{]} & AR & AR\\\\\n\t5 & California & 37253956 & 4.4 & CA & (3.36e+07,3.73e+07{]} & CA & CA\\\\\n\t6 & Colorado   &  5029196 & 2.8 & CO & (4.23e+06,7.9e+06{]}  & CO & CO\\\\\n\\end{tabular}\n",
            "text/markdown": "\nA data.frame: 6 × 7\n\n| <!--/--> | State &lt;chr&gt; | Population &lt;int&gt; | Murder.Rate &lt;dbl&gt; | NA. &lt;chr&gt; | NA.1 &lt;chr&gt; | NA.2 &lt;chr&gt; | Abbreviation &lt;chr&gt; |\n|---|---|---|---|---|---|---|---|\n| 1 | Alabama    |  4779736 | 5.7 | AL | (4.23e+06,7.9e+06]  | AL | AL |\n| 2 | Alaska     |   710231 | 5.6 | AK | [5.64e+05,4.23e+06] | AK | AK |\n| 3 | Arizona    |  6392017 | 4.7 | AZ | (4.23e+06,7.9e+06]  | AZ | AZ |\n| 4 | Arkansas   |  2915918 | 5.6 | AR | [5.64e+05,4.23e+06] | AR | AR |\n| 5 | California | 37253956 | 4.4 | CA | (3.36e+07,3.73e+07] | CA | CA |\n| 6 | Colorado   |  5029196 | 2.8 | CO | (4.23e+06,7.9e+06]  | CO | CO |\n\n",
            "text/html": [
              "<table class=\"dataframe\">\n",
              "<caption>A data.frame: 6 × 7</caption>\n",
              "<thead>\n",
              "\t<tr><th></th><th scope=col>State</th><th scope=col>Population</th><th scope=col>Murder.Rate</th><th scope=col>NA.</th><th scope=col>NA.1</th><th scope=col>NA.2</th><th scope=col>Abbreviation</th></tr>\n",
              "\t<tr><th></th><th scope=col>&lt;chr&gt;</th><th scope=col>&lt;int&gt;</th><th scope=col>&lt;dbl&gt;</th><th scope=col>&lt;chr&gt;</th><th scope=col>&lt;chr&gt;</th><th scope=col>&lt;chr&gt;</th><th scope=col>&lt;chr&gt;</th></tr>\n",
              "</thead>\n",
              "<tbody>\n",
              "\t<tr><th scope=row>1</th><td>Alabama   </td><td> 4779736</td><td>5.7</td><td>AL</td><td>(4.23e+06,7.9e+06] </td><td>AL</td><td>AL</td></tr>\n",
              "\t<tr><th scope=row>2</th><td>Alaska    </td><td>  710231</td><td>5.6</td><td>AK</td><td>[5.64e+05,4.23e+06]</td><td>AK</td><td>AK</td></tr>\n",
              "\t<tr><th scope=row>3</th><td>Arizona   </td><td> 6392017</td><td>4.7</td><td>AZ</td><td>(4.23e+06,7.9e+06] </td><td>AZ</td><td>AZ</td></tr>\n",
              "\t<tr><th scope=row>4</th><td>Arkansas  </td><td> 2915918</td><td>5.6</td><td>AR</td><td>[5.64e+05,4.23e+06]</td><td>AR</td><td>AR</td></tr>\n",
              "\t<tr><th scope=row>5</th><td>California</td><td>37253956</td><td>4.4</td><td>CA</td><td>(3.36e+07,3.73e+07]</td><td>CA</td><td>CA</td></tr>\n",
              "\t<tr><th scope=row>6</th><td>Colorado  </td><td> 5029196</td><td>2.8</td><td>CO</td><td>(4.23e+06,7.9e+06] </td><td>CO</td><td>CO</td></tr>\n",
              "</tbody>\n",
              "</table>\n"
            ]
          },
          "metadata": {
            "tags": []
          }
        }
      ]
    },
    {
      "cell_type": "code",
      "metadata": {
        "id": "DOrnGJNoj5AZ"
      },
      "source": [
        ""
      ],
      "execution_count": null,
      "outputs": []
    },
    {
      "cell_type": "code",
      "metadata": {
        "id": "PDSsdLiKj5Cx"
      },
      "source": [
        ""
      ],
      "execution_count": null,
      "outputs": []
    },
    {
      "cell_type": "code",
      "metadata": {
        "id": "T5f0ulsFj5FG"
      },
      "source": [
        ""
      ],
      "execution_count": null,
      "outputs": []
    },
    {
      "cell_type": "code",
      "metadata": {
        "id": "fPccIbQzj5Hl"
      },
      "source": [
        ""
      ],
      "execution_count": null,
      "outputs": []
    },
    {
      "cell_type": "code",
      "metadata": {
        "id": "Nk0FNrw-j5J9"
      },
      "source": [
        ""
      ],
      "execution_count": null,
      "outputs": []
    },
    {
      "cell_type": "code",
      "metadata": {
        "id": "F4c4bdmPj5MT"
      },
      "source": [
        ""
      ],
      "execution_count": null,
      "outputs": []
    },
    {
      "cell_type": "code",
      "metadata": {
        "id": "JGRKoO4Cj5Ob"
      },
      "source": [
        ""
      ],
      "execution_count": null,
      "outputs": []
    }
  ]
}